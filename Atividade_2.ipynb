{
  "nbformat": 4,
  "nbformat_minor": 0,
  "metadata": {
    "colab": {
      "provenance": [],
      "authorship_tag": "ABX9TyPKZuu2LSqxHf0x8UX+oSaL",
      "include_colab_link": true
    },
    "kernelspec": {
      "name": "python3",
      "display_name": "Python 3"
    },
    "language_info": {
      "name": "python"
    }
  },
  "cells": [
    {
      "cell_type": "markdown",
      "metadata": {
        "id": "view-in-github",
        "colab_type": "text"
      },
      "source": [
        "<a href=\"https://colab.research.google.com/github/Luzdasualife/Bootcamp-Machine-learning-Atlantico-Avanti/blob/main/Atividade_2.ipynb\" target=\"_parent\"><img src=\"https://colab.research.google.com/assets/colab-badge.svg\" alt=\"Open In Colab\"/></a>"
      ]
    },
    {
      "cell_type": "markdown",
      "source": [
        "1. Escreva uma função que receba uma lista de números e retorne outra lista\n",
        "com os números ímpares."
      ],
      "metadata": {
        "id": "bPB2pTnkH334"
      }
    },
    {
      "cell_type": "code",
      "source": [
        "def obter_numeros_impares(lista_numeros):\n",
        "    lista_impares = []\n",
        "    for numero in lista_numeros:\n",
        "        if numero % 2 != 0:\n",
        "            lista_impares.append(numero)\n",
        "    return lista_impares"
      ],
      "metadata": {
        "id": "r9RM69MIH6g2"
      },
      "execution_count": null,
      "outputs": []
    },
    {
      "cell_type": "markdown",
      "source": [
        "2. Escreva uma função que receba uma lista de números e retorne outra lista\n",
        "com os números primos presentes."
      ],
      "metadata": {
        "id": "wvW0mu8oH5Y9"
      }
    },
    {
      "cell_type": "code",
      "source": [
        "def verificar_primo(numero):\n",
        "    if numero < 2:\n",
        "        return False\n",
        "    for divisor in range(2, int(numero ** 0.5) + 1):\n",
        "        if numero % divisor == 0:\n",
        "            return False\n",
        "    return True\n",
        "\n",
        "def obter_numeros_primos(lista_numeros):\n",
        "    lista_primos = []\n",
        "    for numero in lista_numeros:\n",
        "        if verificar_primo(numero):\n",
        "            lista_primos.append(numero)\n",
        "    return lista_primos"
      ],
      "metadata": {
        "id": "jAHi1aCgH689"
      },
      "execution_count": null,
      "outputs": []
    },
    {
      "cell_type": "markdown",
      "source": [
        "3. Escreva uma função que receba duas listas e retorne outra lista com os\n",
        "elementos que estão presentes em apenas uma das listas."
      ],
      "metadata": {
        "id": "FB4MPbWEH7YP"
      }
    },
    {
      "cell_type": "code",
      "source": [
        "def elementos_unicos_entre_listas(lista_a, lista_b):\n",
        "    conjunto_a = set(lista_a)\n",
        "    conjunto_b = set(lista_b)\n",
        "    resultado = (conjunto_a | conjunto_b) - (conjunto_a & conjunto_b)\n",
        "    return list(resultado)\n"
      ],
      "metadata": {
        "id": "ivLQQivqITXI"
      },
      "execution_count": null,
      "outputs": []
    },
    {
      "cell_type": "markdown",
      "source": [
        "4. Dada uma lista de números inteiros, escreva uma função para encontrar o\n",
        "segundo maior valor na lista."
      ],
      "metadata": {
        "id": "bvR87yoqH-u-"
      }
    },
    {
      "cell_type": "code",
      "source": [
        "def encontrar_segundo_maior(lista_numeros):\n",
        "    maiores = sorted(set(lista_numeros), reverse=True)\n",
        "    if len(maiores) > 1:\n",
        "        return maiores[1]\n",
        "    return None"
      ],
      "metadata": {
        "id": "K6yqQOd7IWe4"
      },
      "execution_count": null,
      "outputs": []
    },
    {
      "cell_type": "markdown",
      "source": [
        "5. Crie uma função que receba uma lista de tuplas, cada uma contendo o\n",
        "nome e a idade de uma pessoa, e retorne a lista ordenada pelo nome das\n",
        "pessoas em ordem alfabética."
      ],
      "metadata": {
        "id": "XypUefS0H_k1"
      }
    },
    {
      "cell_type": "code",
      "source": [
        "def ordenar_tuplas_por_nome(lista_tuplas):\n",
        "    lista_ordenada = sorted(lista_tuplas, key=lambda item: item[0].lower())\n",
        "    return lista_ordenada"
      ],
      "metadata": {
        "id": "8avdGsM5IcGw"
      },
      "execution_count": null,
      "outputs": []
    },
    {
      "cell_type": "markdown",
      "source": [
        "6. Observe os espaços sublinhados e complete o código.  \n",
        "\n",
        "$import __________.pyplot as plt\n",
        "import numpy as ___\n",
        "fig, axs = plt.subplots(ncols=2, nrows=2, figsize=(5.5, 3.5),\n",
        " layout=\"constrained\")\n",
        "for ___ in range(2):\n",
        " for ___ in range(2):\n",
        " axs[row, col].annotate(f'axs[{row}, {col}]', (0.5, 0.5),\n",
        " transform=axs[row, col].transAxes,\n",
        " ha='center', va='center', ________=18,\n",
        " color='darkgrey')\n",
        "fig.suptitle('__.subplots()')$"
      ],
      "metadata": {
        "id": "QPPgh99sICjf"
      }
    },
    {
      "cell_type": "code",
      "source": [
        "import matplotlib.pyplot as plt\n",
        "import numpy as np\n",
        "\n",
        "fig, axs = plt.subplots(ncols=2, nrows=2, figsize=(6, 4),\n",
        "                        layout=\"constrained\")\n",
        "\n",
        "for linha in range(2):\n",
        "    for coluna in range(2):\n",
        "        axs[linha, coluna].annotate(f'Posição [{linha}, {coluna}]', (0.5, 0.5),\n",
        "                                    transform=axs[linha, coluna].transAxes,\n",
        "                                    ha='center', va='center', fontsize=12,\n",
        "                                    color='darkblue')\n",
        "fig.suptitle('Diagrama de Subplots')\n",
        "plt.show()"
      ],
      "metadata": {
        "id": "pjCYmh1aIfQa"
      },
      "execution_count": null,
      "outputs": []
    },
    {
      "cell_type": "markdown",
      "source": [
        "7. Observe os espaços sublinhados e complete o código.  \n",
        "\n",
        "$import numpy as np\n",
        "import __________ as mpl\n",
        "import __________.______ as plt\n",
        "x = np.________(-2 * np.pi, 2 * np.pi, 100)\n",
        "y = np.____(x)\n",
        "__, __ = plt.subplots()\n",
        "ax.____(_, _)$\n"
      ],
      "metadata": {
        "id": "PCSKw9UrIDdi"
      }
    },
    {
      "cell_type": "code",
      "source": [
        "import numpy as np\n",
        "import matplotlib as mpl\n",
        "import matplotlib.pyplot as plt\n",
        "\n",
        "x = np.linspace(-2 * np.pi, 2 * np.pi, 150)\n",
        "y = np.cos(x)\n",
        "\n",
        "fig, ax = plt.subplots()\n",
        "ax.plot(x, y, linestyle='-', linewidth=2, color='purple')\n",
        "ax.set_title('Gráfico de Coseno')\n",
        "plt.show()"
      ],
      "metadata": {
        "id": "i0MA_x7vIgk2"
      },
      "execution_count": null,
      "outputs": []
    },
    {
      "cell_type": "markdown",
      "source": [
        "8. Utilizando pandas, como realizar a leitura de um arquivo CSV em um\n",
        "DataFrame e exibir as primeiras linhas?\n",
        "\n",
        "\n"
      ],
      "metadata": {
        "id": "jSKLgg5xHkwo"
      }
    },
    {
      "cell_type": "code",
      "source": [
        "import pandas as pd\n",
        "\n",
        "df = pd.read_csv('dados.csv')\n",
        "print(\"Primeiras linhas do DataFrame:\")\n",
        "print(df.head())"
      ],
      "metadata": {
        "id": "7zRnWC-lIpiA"
      },
      "execution_count": null,
      "outputs": []
    },
    {
      "cell_type": "markdown",
      "source": [
        "9. Utilizando pandas, como selecionar uma coluna específica e filtrar linhas\n",
        "em um “DataFrame” com base em uma condição?"
      ],
      "metadata": {
        "id": "rRW8onmdHm4e"
      }
    },
    {
      "cell_type": "code",
      "source": [
        "coluna = 'idade'\n",
        "valor_minimo = 18\n",
        "\n",
        "coluna_especifica = df[coluna]\n",
        "filtro_condicional = df[df[coluna] >= valor_minimo]\n",
        "print(\"Dados filtrados com base na condição:\")\n",
        "print(filtro_condicional)"
      ],
      "metadata": {
        "id": "yeYOeLp1Ir_2"
      },
      "execution_count": null,
      "outputs": []
    },
    {
      "cell_type": "markdown",
      "source": [
        "10. Utilizando pandas, como lidar com valores ausentes (NaN) em um\n",
        "DataFrame?"
      ],
      "metadata": {
        "id": "sTDpeOl5HnnG"
      }
    },
    {
      "cell_type": "code",
      "execution_count": null,
      "metadata": {
        "id": "_6tG6vFGHjsL"
      },
      "outputs": [],
      "source": [
        "valor_padrao = 0\n",
        "df.fillna(valor_padrao, inplace=True)\n",
        "print(\"DataFrame após lidar com valores ausentes:\")\n",
        "print(df)\n",
        "\n",
        "df.dropna(inplace=True)"
      ]
    }
  ]
}